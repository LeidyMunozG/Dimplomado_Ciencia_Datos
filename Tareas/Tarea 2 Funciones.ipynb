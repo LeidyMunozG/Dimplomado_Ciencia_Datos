{
 "cells": [
  {
   "cell_type": "markdown",
   "id": "7918153d",
   "metadata": {},
   "source": [
    "# Tarea 2. Funciones"
   ]
  },
  {
   "cell_type": "markdown",
   "id": "9bc565ea",
   "metadata": {},
   "source": [
    "Leidy Vanessa Muñoz Gutierrez"
   ]
  },
  {
   "cell_type": "markdown",
   "id": "fa06a110",
   "metadata": {},
   "source": [
    "#### 1. Escriba una función  que reciba la fecha de nacimiento de un a persona y calcule la edad de la persona."
   ]
  },
  {
   "cell_type": "code",
   "execution_count": 1,
   "id": "b9332bd0",
   "metadata": {},
   "outputs": [],
   "source": [
    "from datetime import datetime, date, time, timedelta\n",
    "import calendar\n",
    "from dateutil.relativedelta import relativedelta"
   ]
  },
  {
   "cell_type": "code",
   "execution_count": 2,
   "id": "fac313f0",
   "metadata": {},
   "outputs": [],
   "source": [
    "def f_edad():\n",
    "    formato = \"%d/%m/%Y\"\n",
    "    fecha_nacimiento =  input('Introducir su fecha de nacimiento (dd/mm/aaaa):')\n",
    "    fecha_nacimiento = datetime.strptime(fecha_nacimiento, formato)\n",
    "    edad = relativedelta(datetime.now(), fecha_nacimiento)\n",
    "    if fecha_nacimiento <= datetime.now():\n",
    "        print (f\"{edad.years} años, {edad.months} meses y {edad.days} días\")\n",
    "    else:\n",
    "        print('Error. Ingrese una fecha de nacimiento valida')"
   ]
  },
  {
   "cell_type": "code",
   "execution_count": 3,
   "id": "1f5db0fb",
   "metadata": {},
   "outputs": [
    {
     "name": "stdout",
     "output_type": "stream",
     "text": [
      "Introducir su fecha de nacimiento (dd/mm/aaaa):11/2/2002\n",
      "21 años, 0 meses y 4 días\n"
     ]
    }
   ],
   "source": [
    "f_edad()"
   ]
  },
  {
   "cell_type": "markdown",
   "id": "6bdf9b3a",
   "metadata": {},
   "source": [
    "#### 2. Crea una función EscribirCentrado, que reciba como parámetro un texto y lo escriba centrado en pantalla."
   ]
  },
  {
   "cell_type": "code",
   "execution_count": 4,
   "id": "69034e20",
   "metadata": {},
   "outputs": [],
   "source": [
    "def EscribirCentrado():\n",
    "    texto = input('Ingrese un texto: ')\n",
    "    texto2 = texto.center(80)\n",
    "    print(texto2)"
   ]
  },
  {
   "cell_type": "code",
   "execution_count": 5,
   "id": "f7c3d04a",
   "metadata": {},
   "outputs": [
    {
     "name": "stdout",
     "output_type": "stream",
     "text": [
      "Ingrese un texto: Objeto String\n",
      "                                 Objeto String                                  \n"
     ]
    }
   ],
   "source": [
    "EscribirCentrado()"
   ]
  },
  {
   "cell_type": "markdown",
   "id": "1fea0a07",
   "metadata": {},
   "source": [
    "#### 3. Construya una función decorada que reciba un texto y lo escriba marcado con Markdown en itálica y resaltada (bold)."
   ]
  },
  {
   "cell_type": "code",
   "execution_count": 6,
   "id": "4f2d65f9",
   "metadata": {},
   "outputs": [],
   "source": [
    "def make_bold(fn):\n",
    "    def makebold_wrapper():\n",
    "        return \"<b>\" + fn() + \"</b>\"\n",
    "    return makebold_wrapper\n",
    "\n",
    "def make_italic(fn):\n",
    "    def makeitalic_wrapper():\n",
    "        return \"<i>\" + fn() + \"</i>\"\n",
    "    return makeitalic_wrapper\n",
    "\n",
    "@make_bold\n",
    "@make_italic\n",
    "def texto():\n",
    "    texto= input('Ingrese el texto que desea utilizar: ')\n",
    "    return texto \n",
    "    print(texto())"
   ]
  },
  {
   "cell_type": "code",
   "execution_count": 7,
   "id": "166a62cb",
   "metadata": {},
   "outputs": [
    {
     "name": "stdout",
     "output_type": "stream",
     "text": [
      "Ingrese el texto que desea utilizar: Objeto String\n"
     ]
    },
    {
     "data": {
      "text/plain": [
       "'<b><i>Objeto String</i></b>'"
      ]
     },
     "execution_count": 7,
     "metadata": {},
     "output_type": "execute_result"
    }
   ],
   "source": [
    "texto()"
   ]
  },
  {
   "cell_type": "markdown",
   "id": "88026a30",
   "metadata": {},
   "source": [
    "#### 4.  Crea un programa que pida dos número enteros al usuario y diga si alguno de ellos es múltiplo del otro. "
   ]
  },
  {
   "cell_type": "code",
   "execution_count": 8,
   "id": "b4b88ecf",
   "metadata": {},
   "outputs": [],
   "source": [
    "def multiplos():\n",
    "    numero1 = int(input('Ingrese un número entero: '))\n",
    "    numero2 = int(input('Ingrese un número entero: '))\n",
    "    if numero1 % numero2 == 0:\n",
    "        print(numero2, \"es multiplo de\", numero1,\".\")\n",
    "    else:\n",
    "        if numero2 % numero1 == 0:\n",
    "            print(numero1, \"es multiplo de\", numero2,\".\")\n",
    "        else:\n",
    "            print('Ninguno de los números es múltiplo del otro.')"
   ]
  },
  {
   "cell_type": "code",
   "execution_count": 9,
   "id": "b8712369",
   "metadata": {},
   "outputs": [
    {
     "name": "stdout",
     "output_type": "stream",
     "text": [
      "Ingrese un número entero: 3\n",
      "Ingrese un número entero: 27\n",
      "3 es multiplo de 27 .\n"
     ]
    }
   ],
   "source": [
    "multiplos()"
   ]
  },
  {
   "cell_type": "markdown",
   "id": "b53021a4",
   "metadata": {},
   "source": [
    "#### 5. Crear una función re reciba una lista  de 24 valores de temperatura leída  hora en un día y que calcule la temperatura media  Cree una lista con 24 valores de temperatura de un día de Bogotá y pruebe su función. Invente los datos.\n"
   ]
  },
  {
   "cell_type": "code",
   "execution_count": 10,
   "id": "eaeaa167",
   "metadata": {},
   "outputs": [],
   "source": [
    "def media(y):\n",
    "    media = sum(y)/len(y)\n",
    "    print(\"La media de la variable es\",media,'.')"
   ]
  },
  {
   "cell_type": "code",
   "execution_count": 11,
   "id": "11fae2a6",
   "metadata": {},
   "outputs": [
    {
     "name": "stdout",
     "output_type": "stream",
     "text": [
      "La media de la variable es 14.083333333333334 .\n"
     ]
    }
   ],
   "source": [
    "temperatura =[11, 11, 11, 10, 10, 9, 10, 11, 13, 15, 17, 18, 19, 21, 20, 18, 17, 17, 16, 14, 13, 13, 12, 12]\n",
    "\n",
    "media(temperatura)"
   ]
  },
  {
   "cell_type": "markdown",
   "id": "4ce4ef75",
   "metadata": {},
   "source": [
    "#### 5. Crea un función “ConvertirEspaciado”, que reciba como parámetro un texto y devuelve una cadena con un espacio adicional tras cada letra. Por ejemplo, “Hola, tú” devolverá “H o l a , t ú “."
   ]
  },
  {
   "cell_type": "code",
   "execution_count": 12,
   "id": "60eda4df",
   "metadata": {},
   "outputs": [],
   "source": [
    "def convertir_espaciado():\n",
    "    texto = input('Ingrese un texto: ')\n",
    "    texto_espaciado = \" \".join(texto)\n",
    "    print (texto_espaciado)"
   ]
  },
  {
   "cell_type": "code",
   "execution_count": 13,
   "id": "e28f0d1b",
   "metadata": {},
   "outputs": [
    {
     "name": "stdout",
     "output_type": "stream",
     "text": [
      "Ingrese un texto: Hola, tú\n",
      "H o l a ,   t ú\n"
     ]
    }
   ],
   "source": [
    "convertir_espaciado()"
   ]
  },
  {
   "cell_type": "markdown",
   "id": "f6ff0bbe",
   "metadata": {},
   "source": [
    "#### 6. Crea una función “calcularMaxMin” que recibe una arreglo con valores numérico y devuelve el valor máximo y el mínimo. "
   ]
  },
  {
   "cell_type": "code",
   "execution_count": 14,
   "id": "bd0d2aae",
   "metadata": {},
   "outputs": [],
   "source": [
    "def calcularMaxMin(y):\n",
    "    Máximo = max(y)\n",
    "    Mínimo = min(y)\n",
    "    print('El valor máximo del arreglo es',Máximo)\n",
    "    print('El valor minimo del arreglo es',Mínimo)"
   ]
  },
  {
   "cell_type": "code",
   "execution_count": 15,
   "id": "f1a99f4c",
   "metadata": {},
   "outputs": [
    {
     "name": "stdout",
     "output_type": "stream",
     "text": [
      "El valor máximo del arreglo es 21\n",
      "El valor minimo del arreglo es 9\n"
     ]
    }
   ],
   "source": [
    "calcularMaxMin(temperatura)"
   ]
  },
  {
   "cell_type": "markdown",
   "id": "774be0cc",
   "metadata": {},
   "source": [
    "#### 7.  Diseñar una función que calcule el área y el perímetro de una circunferencia. "
   ]
  },
  {
   "cell_type": "code",
   "execution_count": 16,
   "id": "f9405603",
   "metadata": {},
   "outputs": [],
   "source": [
    "# circunferencia(radio)\n",
    "import numpy as np\n",
    "\n",
    "def circunferencia(n):\n",
    "    n = int(n)\n",
    "    perimetro = 2*np.pi*n\n",
    "    area = (n**2)*np.pi\n",
    "    print('El perímetro de la circunferencia es',perimetro)\n",
    "    print('El área de la circunferencia es',area)"
   ]
  },
  {
   "cell_type": "code",
   "execution_count": 17,
   "id": "e1a5065d",
   "metadata": {},
   "outputs": [
    {
     "name": "stdout",
     "output_type": "stream",
     "text": [
      "El perímetro de la circunferencia es 31.41592653589793\n",
      "El área de la circunferencia es 78.53981633974483\n"
     ]
    }
   ],
   "source": [
    "circunferencia(5)"
   ]
  },
  {
   "cell_type": "markdown",
   "id": "3f512efa",
   "metadata": {},
   "source": [
    "#### 8. Crear una función  llamada “Login”, que recibe un nombre de usuario y una contraseña y devuelva Verdadero si el nombre de usuario es “usuario1” y la contraseña es “asdasd”. Además recibe el número de intentos que se ha intentado hacer login y si no se ha podido hacer login incremente este valor."
   ]
  },
  {
   "cell_type": "code",
   "execution_count": 18,
   "id": "f7e4f293",
   "metadata": {},
   "outputs": [],
   "source": [
    "def Login():\n",
    "    intentos = 0\n",
    "    while True:\n",
    "            nombre = input('Ingrese el nombre de usuario: ')\n",
    "            contr = input('Ingrese la contraseña: ')\n",
    "            if nombre == 'usuario1' and contr == 'asdasd':\n",
    "                print('Verdadero. Número de intentos realizados:',intentos)\n",
    "                break\n",
    "            else:\n",
    "                intentos = intentos + 1\n",
    "                print('Datos incorrectos. Número de intentos realizados:',intentos)"
   ]
  },
  {
   "cell_type": "code",
   "execution_count": 19,
   "id": "5a15d1ab",
   "metadata": {},
   "outputs": [
    {
     "name": "stdout",
     "output_type": "stream",
     "text": [
      "Ingrese el nombre de usuario: usuario2\n",
      "Ingrese la contraseña: tgkjhgf\n",
      "Datos incorrectos. Número de intentos realizados: 1\n",
      "Ingrese el nombre de usuario: usuario1\n",
      "Ingrese la contraseña: asdasd\n",
      "Verdadero. Número de intentos realizados: 1\n"
     ]
    }
   ],
   "source": [
    "Login()"
   ]
  },
  {
   "cell_type": "markdown",
   "id": "8ca607e2",
   "metadata": {},
   "source": [
    "#### 9. Crear una función recursiva que permita calcular el factorial de un número. Realiza un programa principal donde se lea un entero y se muestre el resultado del factorial. Revise la lección de funciones."
   ]
  },
  {
   "cell_type": "code",
   "execution_count": 20,
   "id": "7e7613ae",
   "metadata": {},
   "outputs": [],
   "source": [
    "def factorial(num):\n",
    "    if num >= 0:\n",
    "        if num == 0:\n",
    "            num = 1\n",
    "        else:\n",
    "            num = num * factorial(num -1)\n",
    "        return num\n",
    "        print(num)\n",
    "    else:\n",
    "        print('El número ingresado no es válido.')"
   ]
  },
  {
   "cell_type": "code",
   "execution_count": 21,
   "id": "fb0df295",
   "metadata": {},
   "outputs": [
    {
     "data": {
      "text/plain": [
       "120"
      ]
     },
     "execution_count": 21,
     "metadata": {},
     "output_type": "execute_result"
    }
   ],
   "source": [
    "factorial(5)"
   ]
  },
  {
   "cell_type": "markdown",
   "id": "e5106bee",
   "metadata": {},
   "source": [
    "#### 10. Escribir dos funciones que permitan calcular:\n",
    "- La cantidad de segundos en un tiempo dado en horas, minutos y segundos.\n",
    "- La cantidad de horas, minutos y segundos de un tiempo dado en segundos."
   ]
  },
  {
   "cell_type": "code",
   "execution_count": 22,
   "id": "70b422ec",
   "metadata": {},
   "outputs": [],
   "source": [
    "# segundos(horas, minutos, segundos)\n",
    "def segundos(h, m, s):\n",
    "    h = int(h)\n",
    "    m = int(m)\n",
    "    s = int(s)\n",
    "    s1 = h*60*60\n",
    "    s2 = m*60\n",
    "    seg = s+s1+s2\n",
    "    print(seg,'segundos')"
   ]
  },
  {
   "cell_type": "code",
   "execution_count": 23,
   "id": "71065ed8",
   "metadata": {},
   "outputs": [
    {
     "name": "stdout",
     "output_type": "stream",
     "text": [
      "156471 segundos\n"
     ]
    }
   ],
   "source": [
    "segundos(43, 27, 51)"
   ]
  },
  {
   "cell_type": "code",
   "execution_count": 24,
   "id": "a4d7e4de",
   "metadata": {},
   "outputs": [],
   "source": [
    "# horas(segundos)\n",
    "def horas(s):\n",
    "    h = int(s / 60 / 60)\n",
    "    s -= h*60*60\n",
    "    m = int(s/60)\n",
    "    s -= m*60\n",
    "    return f\"{h:02d}:{m:02d}:{s:02d}\""
   ]
  },
  {
   "cell_type": "code",
   "execution_count": 25,
   "id": "8cab9863",
   "metadata": {},
   "outputs": [
    {
     "data": {
      "text/plain": [
       "'43:27:51'"
      ]
     },
     "execution_count": 25,
     "metadata": {},
     "output_type": "execute_result"
    }
   ],
   "source": [
    "horas(156471)"
   ]
  },
  {
   "cell_type": "markdown",
   "id": "3373f5d0",
   "metadata": {},
   "source": [
    "#### 11. Crea una función  que lea una tupla, invierta los valores de la tupla y regrese una nueva tupla invirtiendo los valores. Recuerde que las tuplas son inmutables."
   ]
  },
  {
   "cell_type": "code",
   "execution_count": 26,
   "id": "f56b7d24",
   "metadata": {},
   "outputs": [],
   "source": [
    "def inv_tupla(x):\n",
    "    nueva = x[::-1]\n",
    "    return nueva\n",
    "    print(nueva)"
   ]
  },
  {
   "cell_type": "code",
   "execution_count": 27,
   "id": "740f4e79",
   "metadata": {},
   "outputs": [
    {
     "data": {
      "text/plain": [
       "(29, 36, 17, 23, 67, 34)"
      ]
     },
     "execution_count": 27,
     "metadata": {},
     "output_type": "execute_result"
    }
   ],
   "source": [
    "a = (34, 67, 23, 17, 36,29)\n",
    "inv_tupla(a)"
   ]
  },
  {
   "cell_type": "code",
   "execution_count": null,
   "id": "b4713e4e",
   "metadata": {},
   "outputs": [],
   "source": []
  }
 ],
 "metadata": {
  "kernelspec": {
   "display_name": "Python 3 (ipykernel)",
   "language": "python",
   "name": "python3"
  },
  "language_info": {
   "codemirror_mode": {
    "name": "ipython",
    "version": 3
   },
   "file_extension": ".py",
   "mimetype": "text/x-python",
   "name": "python",
   "nbconvert_exporter": "python",
   "pygments_lexer": "ipython3",
   "version": "3.9.13"
  }
 },
 "nbformat": 4,
 "nbformat_minor": 5
}
