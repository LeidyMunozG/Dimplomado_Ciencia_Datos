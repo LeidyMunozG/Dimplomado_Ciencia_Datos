{
 "cells": [
  {
   "cell_type": "markdown",
   "id": "b26c54f2",
   "metadata": {},
   "source": [
    "# Tarea 1"
   ]
  },
  {
   "cell_type": "markdown",
   "id": "33c5869a",
   "metadata": {},
   "source": [
    "<img src=\"https://img.freepik.com/vector-premium/icono-aprendizaje-profundo-ilustracion-elemento-simple-diseno-simbolos-aprendizaje-profundo-coleccion-inteligencia-artificial-puede-utilizar-web-movil_159242-12188.jpg?w=2000\" width=\"200\" />"
   ]
  },
  {
   "cell_type": "markdown",
   "id": "0738d401",
   "metadata": {},
   "source": [
    "## Autor"
   ]
  },
  {
   "cell_type": "markdown",
   "id": "71c447eb",
   "metadata": {},
   "source": [
    "Leidy Vanessa Muñoz Gutierrez. Estudiante de pregrado de Estadística en la Universidad Nacional de Colombia, actualmente cursando su septimo semestre. Con gran interés en la inteligencia artificial y, en especial, en \"Machine Learning\"."
   ]
  },
  {
   "cell_type": "markdown",
   "id": "0bbad34c",
   "metadata": {},
   "source": [
    "## La varianza y la desviación estándar "
   ]
  },
  {
   "cell_type": "markdown",
   "id": "85921784",
   "metadata": {},
   "source": [
    "La varianza es una medida de disperción con la cual se pretende en cierta medida ver el comportamiento de los datos y como estan distribuidos con respecto a la media. Dado que la media de las desviaciones sobre la media es siempre cero sin importar el conjunto de datos tomado, se utiliza la varianza. La varianza hace referencia a la media de los cuadrados de las desviaciones sobre la media. A su vez ya que la varianza se mide en unidades cuadradas, para volver a la unidades originales se toma su raiz cuadrada, esta se denomina la desviación estándar.  "
   ]
  },
  {
   "cell_type": "markdown",
   "id": "38ce8d4a",
   "metadata": {},
   "source": [
    "Las formulas de la varianza y la desviación estándar son las siguentes,"
   ]
  },
  {
   "cell_type": "markdown",
   "id": "9176a147",
   "metadata": {},
   "source": [
    "Varianza $=\\displaystyle\\sum_{i=1}^n \\frac{(x_i-\\bar{x})^2}{n} $"
   ]
  },
  {
   "cell_type": "markdown",
   "id": "00342804",
   "metadata": {},
   "source": [
    "Desviación estándar $=\\sqrt{\\displaystyle\\sum_{i=1}^n \\frac{(x_i-\\bar{x})^2}{n} }$"
   ]
  },
  {
   "cell_type": "markdown",
   "id": "fb3164cb",
   "metadata": {},
   "source": [
    "donde $x_i$ es el dato í-esimo, $\\bar{x}$ la media aritmética de los datos y $n$ el número de datos."
   ]
  },
  {
   "cell_type": "markdown",
   "id": "8b4cd523",
   "metadata": {},
   "source": [
    "### Ejemplo"
   ]
  },
  {
   "cell_type": "markdown",
   "id": "ebb19b6c",
   "metadata": {},
   "source": [
    "Dados los siguientes datos, calcular su varianza."
   ]
  },
  {
   "cell_type": "markdown",
   "id": "68ebaf06",
   "metadata": {},
   "source": [
    "- 52, 41, 37, 56, 25, 28"
   ]
  },
  {
   "cell_type": "markdown",
   "id": "9a0d1d00",
   "metadata": {},
   "source": [
    "Primero se calcula la media de los datos"
   ]
  },
  {
   "cell_type": "code",
   "execution_count": 1,
   "id": "34d1306e",
   "metadata": {},
   "outputs": [
    {
     "data": {
      "text/plain": [
       "39.833333333333336"
      ]
     },
     "execution_count": 1,
     "metadata": {},
     "output_type": "execute_result"
    }
   ],
   "source": [
    "(52+41+37+56+25+28)/6"
   ]
  },
  {
   "cell_type": "markdown",
   "id": "7933080b",
   "metadata": {},
   "source": [
    "Luego, se calcula la varianza, computando primero los cuadrados de las desviaciones sobre la media."
   ]
  },
  {
   "cell_type": "code",
   "execution_count": 2,
   "id": "931a24e2",
   "metadata": {},
   "outputs": [
    {
     "data": {
      "text/plain": [
       "129.80666666666667"
      ]
     },
     "execution_count": 2,
     "metadata": {},
     "output_type": "execute_result"
    }
   ],
   "source": [
    "((52-39.8)**2 +(41-39.8)**2 +(37-39.8)**2 +(56-39.8)**2 +(25-39.8)**2 +(28-39.8)**2 )/6"
   ]
  },
  {
   "cell_type": "markdown",
   "id": "b0336e41",
   "metadata": {},
   "source": [
    "A partir de la varianza se calcula la desviación estándar, "
   ]
  },
  {
   "cell_type": "code",
   "execution_count": 6,
   "id": "e8b58c86",
   "metadata": {},
   "outputs": [
    {
     "data": {
      "text/plain": [
       "11.393419153177856"
      ]
     },
     "execution_count": 6,
     "metadata": {},
     "output_type": "execute_result"
    }
   ],
   "source": [
    "import numpy as np\n",
    "\n",
    "np.sqrt(129.81)"
   ]
  },
  {
   "cell_type": "markdown",
   "id": "f428c9a5",
   "metadata": {},
   "source": [
    "Asi, la varianza de los datos dados es aproximadamente $129,80̄\\bar{6}$ y la desviación estándar $11,39$. "
   ]
  },
  {
   "cell_type": "markdown",
   "id": "3a72e80f",
   "metadata": {},
   "source": [
    "### Referencias"
   ]
  },
  {
   "cell_type": "markdown",
   "id": "b28e94ab",
   "metadata": {},
   "source": [
    "Abad, G. G. (2021, 13 julio). Varianza: qué es y cómo se calcula. Sage Advice España. https://www.sage.com/es-es/blog/varianza-que-es-y-como-se-calcula/"
   ]
  }
 ],
 "metadata": {
  "kernelspec": {
   "display_name": "Python 3 (ipykernel)",
   "language": "python",
   "name": "python3"
  },
  "language_info": {
   "codemirror_mode": {
    "name": "ipython",
    "version": 3
   },
   "file_extension": ".py",
   "mimetype": "text/x-python",
   "name": "python",
   "nbconvert_exporter": "python",
   "pygments_lexer": "ipython3",
   "version": "3.9.13"
  }
 },
 "nbformat": 4,
 "nbformat_minor": 5
}
