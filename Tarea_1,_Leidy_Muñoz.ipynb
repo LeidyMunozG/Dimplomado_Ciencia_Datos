{
  "cells": [
    {
      "cell_type": "markdown",
      "metadata": {
        "id": "view-in-github",
        "colab_type": "text"
      },
      "source": [
        "<a href=\"https://colab.research.google.com/github/LeidyMunozG/Dimplomado_Ciencia_Datos/blob/main/Tarea_1%2C_Leidy_Mu%C3%B1oz.ipynb\" target=\"_parent\"><img src=\"https://colab.research.google.com/assets/colab-badge.svg\" alt=\"Open In Colab\"/></a>"
      ]
    },
    {
      "cell_type": "markdown",
      "id": "b26c54f2",
      "metadata": {
        "id": "b26c54f2"
      },
      "source": [
        "# Tarea 1"
      ]
    },
    {
      "cell_type": "markdown",
      "id": "33c5869a",
      "metadata": {
        "id": "33c5869a"
      },
      "source": [
        "<img src=\"https://img.freepik.com/vector-premium/icono-aprendizaje-profundo-ilustracion-elemento-simple-diseno-simbolos-aprendizaje-profundo-coleccion-inteligencia-artificial-puede-utilizar-web-movil_159242-12188.jpg?w=2000\" width=\"200\" />"
      ]
    },
    {
      "cell_type": "markdown",
      "id": "0738d401",
      "metadata": {
        "id": "0738d401"
      },
      "source": [
        "## Autor"
      ]
    },
    {
      "cell_type": "markdown",
      "id": "71c447eb",
      "metadata": {
        "id": "71c447eb"
      },
      "source": [
        "Leidy Vanessa Muñoz Gutierrez. Estudiante de pregrado de Estadística en la Universidad Nacional de Colombia, actualmente cursando su septimo semestre. Con gran interés en la inteligencia artificial y, en especial, en \"Machine Learning\"."
      ]
    },
    {
      "cell_type": "markdown",
      "id": "0bbad34c",
      "metadata": {
        "id": "0bbad34c"
      },
      "source": [
        "## La varianza y la desviación estándar "
      ]
    },
    {
      "cell_type": "markdown",
      "id": "85921784",
      "metadata": {
        "id": "85921784"
      },
      "source": [
        "La varianza es una medida de disperción con la cual se pretende en cierta medida ver el comportamiento de los datos y como estan distribuidos con respecto a la media. Dado que la media de las desviaciones sobre la media es siempre cero sin importar el conjunto de datos tomado, se utiliza la varianza. La varianza hace referencia a la media de los cuadrados de las desviaciones sobre la media. A su vez ya que la varianza se mide en unidades cuadradas, para volver a la unidades originales se toma su raiz cuadrada, esta se denomina la desviación estándar.  "
      ]
    },
    {
      "cell_type": "markdown",
      "id": "38ce8d4a",
      "metadata": {
        "id": "38ce8d4a"
      },
      "source": [
        "Las formulas de la varianza y la desviación estándar son las siguentes,"
      ]
    },
    {
      "cell_type": "markdown",
      "id": "9176a147",
      "metadata": {
        "id": "9176a147"
      },
      "source": [
        "Varianza $=\\displaystyle\\sum_{i=1}^n \\frac{(x_i-\\bar{x})^2}{n} $"
      ]
    },
    {
      "cell_type": "markdown",
      "id": "00342804",
      "metadata": {
        "id": "00342804"
      },
      "source": [
        "Desviación estándar $=\\sqrt{\\displaystyle\\sum_{i=1}^n \\frac{(x_i-\\bar{x})^2}{n} }$"
      ]
    },
    {
      "cell_type": "markdown",
      "id": "fb3164cb",
      "metadata": {
        "id": "fb3164cb"
      },
      "source": [
        "donde $x_i$ es el dato í-esimo, $\\bar{x}$ la media aritmética de los datos y $n$ el número de datos."
      ]
    },
    {
      "cell_type": "markdown",
      "id": "8b4cd523",
      "metadata": {
        "id": "8b4cd523"
      },
      "source": [
        "### Ejemplo"
      ]
    },
    {
      "cell_type": "markdown",
      "id": "ebb19b6c",
      "metadata": {
        "id": "ebb19b6c"
      },
      "source": [
        "Dados los siguientes datos, calcular su varianza."
      ]
    },
    {
      "cell_type": "markdown",
      "id": "68ebaf06",
      "metadata": {
        "id": "68ebaf06"
      },
      "source": [
        "- 52, 41, 37, 56, 25, 28"
      ]
    },
    {
      "cell_type": "markdown",
      "id": "9a0d1d00",
      "metadata": {
        "id": "9a0d1d00"
      },
      "source": [
        "Primero se calcula la media de los datos"
      ]
    },
    {
      "cell_type": "code",
      "execution_count": null,
      "id": "34d1306e",
      "metadata": {
        "id": "34d1306e",
        "outputId": "a7cdd83f-06f5-4768-93c2-f301f33638ec"
      },
      "outputs": [
        {
          "data": {
            "text/plain": [
              "39.833333333333336"
            ]
          },
          "execution_count": 1,
          "metadata": {},
          "output_type": "execute_result"
        }
      ],
      "source": [
        "(52+41+37+56+25+28)/6"
      ]
    },
    {
      "cell_type": "markdown",
      "id": "7933080b",
      "metadata": {
        "id": "7933080b"
      },
      "source": [
        "Luego, se calcula la varianza, computando primero los cuadrados de las desviaciones sobre la media."
      ]
    },
    {
      "cell_type": "code",
      "execution_count": null,
      "id": "931a24e2",
      "metadata": {
        "id": "931a24e2",
        "outputId": "37be8c89-c84a-41d1-d584-bf53b3b2a2f0"
      },
      "outputs": [
        {
          "data": {
            "text/plain": [
              "129.80666666666667"
            ]
          },
          "execution_count": 2,
          "metadata": {},
          "output_type": "execute_result"
        }
      ],
      "source": [
        "((52-39.8)**2 +(41-39.8)**2 +(37-39.8)**2 +(56-39.8)**2 +(25-39.8)**2 +(28-39.8)**2 )/6"
      ]
    },
    {
      "cell_type": "markdown",
      "id": "b0336e41",
      "metadata": {
        "id": "b0336e41"
      },
      "source": [
        "A partir de la varianza se calcula la desviación estándar, "
      ]
    },
    {
      "cell_type": "code",
      "execution_count": null,
      "id": "e8b58c86",
      "metadata": {
        "id": "e8b58c86",
        "outputId": "1aee936c-9ce6-4d89-f29d-b6084f437821"
      },
      "outputs": [
        {
          "data": {
            "text/plain": [
              "11.393419153177856"
            ]
          },
          "execution_count": 6,
          "metadata": {},
          "output_type": "execute_result"
        }
      ],
      "source": [
        "import numpy as np\n",
        "\n",
        "np.sqrt(129.81)"
      ]
    },
    {
      "cell_type": "markdown",
      "id": "f428c9a5",
      "metadata": {
        "id": "f428c9a5"
      },
      "source": [
        "Asi, la varianza de los datos dados es aproximadamente $129,80̄\\bar{6}$ y la desviación estándar $11,39$. "
      ]
    },
    {
      "cell_type": "markdown",
      "id": "3a72e80f",
      "metadata": {
        "id": "3a72e80f"
      },
      "source": [
        "### Referencias"
      ]
    },
    {
      "cell_type": "markdown",
      "id": "b28e94ab",
      "metadata": {
        "id": "b28e94ab"
      },
      "source": [
        "Abad, G. G. (2021, 13 julio). Varianza: qué es y cómo se calcula. Sage Advice España. https://www.sage.com/es-es/blog/varianza-que-es-y-como-se-calcula/"
      ]
    }
  ],
  "metadata": {
    "kernelspec": {
      "display_name": "Python 3 (ipykernel)",
      "language": "python",
      "name": "python3"
    },
    "language_info": {
      "codemirror_mode": {
        "name": "ipython",
        "version": 3
      },
      "file_extension": ".py",
      "mimetype": "text/x-python",
      "name": "python",
      "nbconvert_exporter": "python",
      "pygments_lexer": "ipython3",
      "version": "3.9.13"
    },
    "colab": {
      "provenance": [],
      "include_colab_link": true
    }
  },
  "nbformat": 4,
  "nbformat_minor": 5
}